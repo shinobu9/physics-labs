{
 "cells": [
  {
   "cell_type": "code",
   "execution_count": 6,
   "metadata": {},
   "outputs": [],
   "source": [
    "p=[]\n",
    "for i in [4.2, 5.7, 6.6, 8.7, 11.6]:\n",
    "    p.append(i*10*133.3)"
   ]
  },
  {
   "cell_type": "code",
   "execution_count": 7,
   "metadata": {},
   "outputs": [
    {
     "data": {
      "text/plain": [
       "[5598.6, 7598.1, 8797.800000000001, 11597.1, 15462.800000000001]"
      ]
     },
     "execution_count": 7,
     "metadata": {},
     "output_type": "execute_result"
    }
   ],
   "source": [
    "p"
   ]
  },
  {
   "cell_type": "code",
   "execution_count": 8,
   "metadata": {},
   "outputs": [
    {
     "data": {
      "text/plain": [
       "[[5598.6, 7598.1, 8797.800000000001, 11597.1, 15462.800000000001],\n",
       " [293, 298.4, 301, 306, 311]]"
      ]
     },
     "execution_count": 8,
     "metadata": {},
     "output_type": "execute_result"
    }
   ],
   "source": [
    "Pt = [p,[293, 298.4, 301, 306, 311]]\n",
    "Pt"
   ]
  },
  {
   "cell_type": "code",
   "execution_count": 9,
   "metadata": {},
   "outputs": [
    {
     "data": {
      "text/plain": [
       "[293, 298.4, 301, 306, 311]"
      ]
     },
     "execution_count": 9,
     "metadata": {},
     "output_type": "execute_result"
    }
   ],
   "source": [
    "t = Pt[1][:]\n",
    "t"
   ]
  },
  {
   "cell_type": "code",
   "execution_count": 13,
   "metadata": {},
   "outputs": [
    {
     "data": {
      "image/png": "[encoded data removed]",
      "text/plain": [
       "<Figure size 432x288 with 1 Axes>"
      ]
     },
     "metadata": {
      "needs_background": "light"
     },
     "output_type": "display_data"
    }
   ],
   "source": [
    "import pandas as pd\n",
    "import numpy as np\n",
    "import matplotlib.pyplot as plt\n",
    "plt.scatter(t, p)\n",
    "#plt.scatter([0],[0], color='red')\n",
    "\n",
    "z = np.polyfit(t, p, 1)\n",
    "poly = np.poly1d(z)\n",
    "plt.plot(t,poly(t),\"r--\")\n",
    "\n",
    "plt.xlabel('T, K')\n",
    "plt.ylabel('P, Па')\n",
    "plt.show()"
   ]
  },
  {
   "cell_type": "code",
   "execution_count": 15,
   "metadata": {},
   "outputs": [],
   "source": [
    "lnp = []\n",
    "import math as m\n",
    "for i in p:\n",
    "    lnp.append(m.log2(i))\n",
    "t1 = []\n",
    "for i in t:\n",
    "    t1.append(1/i)"
   ]
  },
  {
   "cell_type": "code",
   "execution_count": 18,
   "metadata": {},
   "outputs": [],
   "source": [
    "lnp = [8.63, 8.94, 9.08, 9.36, 9.65]\n",
    "t1 = [3.41, 3.35, 3.32, 3.27, 3.22]"
   ]
  },
  {
   "cell_type": "code",
   "execution_count": 21,
   "metadata": {},
   "outputs": [
    {
     "data": {
      "image/png": "[encoded data removed]",
      "text/plain": [
       "<Figure size 432x288 with 1 Axes>"
      ]
     },
     "metadata": {
      "needs_background": "light"
     },
     "output_type": "display_data"
    }
   ],
   "source": [
    "plt.scatter(t1, lnp)\n",
    "#plt.scatter([0],[0], color='red')\n",
    "\n",
    "z = np.polyfit(t1, lnp, 1)\n",
    "poly = np.poly1d(z)\n",
    "plt.plot(t1,poly(t1),\"r--\")\n",
    "\n",
    "plt.xlabel('1/T * 10^3')\n",
    "plt.ylabel('lnP')\n",
    "plt.show()"
   ]
  },
  {
   "cell_type": "code",
   "execution_count": 24,
   "metadata": {},
   "outputs": [],
   "source": [
    "p=[5598.6, 7598.1, 8797.800000000001, 11597.1, 15462.800000000001]\n",
    "t=[293, 298.4, 301, 306, 311]\n",
    "l=[69.66, 53.24, 46.78, 36.68, 28.42]"
   ]
  },
  {
   "cell_type": "code",
   "execution_count": 33,
   "metadata": {},
   "outputs": [],
   "source": [
    "deltal = []\n",
    "for i in range(5):\n",
    "    deltal.append(l[i] * ( 2*(13.33/p[i])**2 + 2*4*(0.2/t[i])**2 )**(0.5))"
   ]
  },
  {
   "cell_type": "code",
   "execution_count": 34,
   "metadata": {},
   "outputs": [
    {
     "data": {
      "text/plain": [
       "[0.27037901950319937,\n",
       " 0.16623781669924095,\n",
       " 0.13332987790683035,\n",
       " 0.09029425521732598,\n",
       " 0.06223143586887416]"
      ]
     },
     "execution_count": 34,
     "metadata": {},
     "output_type": "execute_result"
    }
   ],
   "source": [
    "deltal"
   ]
  },
  {
   "cell_type": "code",
   "execution_count": 38,
   "metadata": {},
   "outputs": [
    {
     "data": {
      "text/plain": [
       "0.14449448103909418"
      ]
     },
     "execution_count": 38,
     "metadata": {},
     "output_type": "execute_result"
    }
   ],
   "source": [
    "sum(deltal)/5"
   ]
  },
  {
   "cell_type": "code",
   "execution_count": null,
   "metadata": {},
   "outputs": [],
   "source": []
  }
 ],
 "metadata": {
  "kernelspec": {
   "display_name": "Python 3",
   "language": "python",
   "name": "python3"
  },
  "language_info": {
   "codemirror_mode": {
    "name": "ipython",
    "version": 3
   },
   "file_extension": ".py",
   "mimetype": "text/x-python",
   "name": "python",
   "nbconvert_exporter": "python",
   "pygments_lexer": "ipython3",
   "version": "3.8.3"
  }
 },
 "nbformat": 4,
 "nbformat_minor": 4
}

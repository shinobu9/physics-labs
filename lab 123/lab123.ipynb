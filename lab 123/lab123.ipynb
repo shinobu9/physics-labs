{
 "cells": [
  {
   "cell_type": "code",
   "execution_count": 1,
   "metadata": {},
   "outputs": [
    {
     "name": "stdout",
     "output_type": "stream",
     "text": [
      "\\begin{tabular}{lrrrrr}\n",
      "\\toprule\n",
      "{} &     10 &     15 &     20 &      25 &      30 \\\\\n",
      "\\midrule\n",
      "0 &  45.37 &  67.98 &  90.51 &  112.98 &  135.45 \\\\\n",
      "\\bottomrule\n",
      "\\end{tabular}\n",
      "\n",
      "      10     15     20      25      30\n",
      "0  45.37  67.98  90.51  112.98  135.45\n"
     ]
    }
   ],
   "source": [
    "import pandas as pd\n",
    "import numpy as np\n",
    "\n",
    "data = pd.read_excel(\"noweights.xlsx\")\n",
    "print(data.to_latex())\n",
    "print(data)"
   ]
  },
  {
   "cell_type": "code",
   "execution_count": null,
   "metadata": {},
   "outputs": [],
   "source": [
    "data.to_numpy()"
   ]
  },
  {
   "cell_type": "code",
   "execution_count": null,
   "metadata": {},
   "outputs": [],
   "source": [
    "k = 0.0004\n",
    "m = 1.0264\n",
    "noweights = [[10, 15, 20, 25, 30],\n",
    "            [ 45.37,  67.98,  90.51, 112.98, 135.45],\n",
    "            [0,0,0,0,0],\n",
    "            [0,0,0,0,0]]\n",
    "for i in range(5):\n",
    "    noweights[2][i] = round(noweights[1][i] / noweights[0][i], 2)\n",
    "    noweights[3][i] = round(k * m * noweights[2][i]**2, 5)\n",
    "noweights_df = pd.DataFrame(data=noweights, index=[\"Кол-во периодов\", \"t, c\", \"T, c\", \"I, кг*м2\"])"
   ]
  },
  {
   "cell_type": "code",
   "execution_count": null,
   "metadata": {},
   "outputs": [],
   "source": [
    "noweights_df"
   ]
  },
  {
   "cell_type": "code",
   "execution_count": null,
   "metadata": {},
   "outputs": [],
   "source": [
    "print(noweights_df.to_latex())"
   ]
  },
  {
   "cell_type": "code",
   "execution_count": null,
   "metadata": {},
   "outputs": [],
   "source": [
    "0.0004 * ((0.5/115.5)**2 + (0.3/30.2)**2 + (0.5/2150)**2)**0.5"
   ]
  },
  {
   "cell_type": "code",
   "execution_count": null,
   "metadata": {},
   "outputs": [],
   "source": [
    "0.008412 * (4 * 0.005**2 + (0.5/1026.4)**2 + (0.043/4)**2)**0.5"
   ]
  },
  {
   "cell_type": "code",
   "execution_count": null,
   "metadata": {},
   "outputs": [],
   "source": [
    "s = 0\n",
    "for i in range(5):\n",
    "    s += (0.008412 - noweights[3][i])**2\n",
    "(s/20)**0.5"
   ]
  },
  {
   "cell_type": "code",
   "execution_count": null,
   "metadata": {},
   "outputs": [],
   "source": [
    "add = pd.read_excel(\"add.xlsx\")\n",
    "add.to_numpy()"
   ]
  },
  {
   "cell_type": "code",
   "execution_count": null,
   "metadata": {},
   "outputs": [],
   "source": [
    "add = np.array([[ 10.  ,  15.  ,  20.  ,  25.  ,  30.  ],#0\n",
    "                   [ 43.31,  64.97,  86.55, 108.11, 129.69],#1\n",
    "                   [0,0,0,0,0],#2\n",
    "                   [0,0,0,0,0],#3\n",
    "                   [ 32.45,  50.61,  68.74, 85.84, 103.92],#4\n",
    "                   [0,0,0,0,0],#5\n",
    "                   [0,0,0,0,0],#6\n",
    "                   [ 40.79,  61.15,  81.48, 101.79, 122.07],#7\n",
    "                   [0,0,0,0,0],#8\n",
    "                   [0,0,0,0,0],#9\n",
    "                   [0,0,0,0,0],#10\n",
    "                   [0,0,0,0,0]])\n",
    "k = 0.0004\n",
    "mc = 981.7/1000\n",
    "mk = 587.9/1000\n",
    "mcmk = mc + mk\n",
    "for i in range(5):\n",
    "    add[2][i] = round(add[1][i] / add[0][i], 2)\n",
    "    add[5][i] = round(add[4][i] / add[0][i], 2)\n",
    "    add[8][i] = round(add[7][i] / add[0][i], 2)\n",
    "    \n",
    "    add[3][i] = mc * k * add[2][i]**2\n",
    "    add[6][i] = mk * k * add[5][i]**2\n",
    "    add[9][i] = mcmk * k * add[8][i]**2\n",
    "    \n",
    "    #add[10][i] = abs(add[9][i] - add[3][i] - add[6][i])\n",
    "    add[10][i] = add[3][i] + add[6][i]\n",
    "    add[11][i] = abs(add[10][i] - add[9][i])"
   ]
  },
  {
   "cell_type": "code",
   "execution_count": null,
   "metadata": {},
   "outputs": [],
   "source": [
    "add_df = pd.DataFrame(data=add, index=[\"Кол-во периодов\", \"tц, c\", \"Tц, c\", \"Iц, кг*м2\",\n",
    "                                                           \"tк, c\", \"Tк, c\", \"Iк, кг*м2\",\n",
    "                                                           \"tцк, c\", \"Tцк, c\", \"Iцк, кг*м2\",\n",
    "                                        \"Iц + Iк, кг*м2\", \"delta\"])\n",
    "add_df"
   ]
  },
  {
   "cell_type": "code",
   "execution_count": null,
   "metadata": {},
   "outputs": [],
   "source": [
    "print(add_df.to_latex())"
   ]
  },
  {
   "cell_type": "code",
   "execution_count": null,
   "metadata": {},
   "outputs": [],
   "source": [
    "add\n"
   ]
  },
  {
   "cell_type": "code",
   "execution_count": null,
   "metadata": {},
   "outputs": [],
   "source": [
    "a = [[0.010446, 0.010434, 0.010421, 0.010408, 0.010395],[0.009831, 0.010033, 0.010145, 0.010095, 0.010144], [0,0,0,0,0]]\n",
    "for i in range(5):\n",
    "    a[2][i] = round(abs(a[0][i] - a[1][i]), 6)\n",
    "a"
   ]
  },
  {
   "cell_type": "code",
   "execution_count": null,
   "metadata": {},
   "outputs": [],
   "source": [
    "disk = pd.read_excel(\"disk.xlsx\")"
   ]
  },
  {
   "cell_type": "code",
   "execution_count": null,
   "metadata": {},
   "outputs": [],
   "source": [
    "dd = disk.to_numpy().T\n",
    "dd\n",
    "rr = np.insert(dd, 3, [0,0,0], axis=0)\n",
    "rr = np.insert(dd, 5, [0,0,0], axis=0)\n",
    "rr = np.insert(dd, 7, [0,0,0], axis=0)\n",
    "rr = np.insert(dd, 9, [0,0,0], axis=0)\n",
    "rr = np.insert(dd, 11, [0,0,0], axis=0)\n",
    "rr = np.insert(dd, 13, [0,0,0], axis=0)\n",
    "rr = np.insert(dd, 15, [0,0,0], axis=0)\n",
    "rr = np.insert(dd, 17, [0,0,0], axis=0)"
   ]
  },
  {
   "cell_type": "code",
   "execution_count": null,
   "metadata": {},
   "outputs": [],
   "source": [
    "rr"
   ]
  },
  {
   "cell_type": "code",
   "execution_count": null,
   "metadata": {},
   "outputs": [],
   "source": [
    "ddf = pd.DataFrame(data = disk.to_numpy().T, index = [\"Кол-во периодов\", \"t_0\", \"T_0\", \"t_0.5\", \"T_0.5\", \"t_1\", \"T_1\",\n",
    "                                                      \"t_1.5\", \"T_1.5\", \"t_2\", \"T_2\", \"t_2.5\", \"T_2.5\", \"t_3\", \"T_3\", \n",
    "                                                     \"t_3.5\", \"T_3.5\", \"t_4\", \"T_4\", \"t_4.5\", \"T_4.5\", \"t_5\", \"T_5\",\n",
    "                                                      \"t_5.5\", \"T_5.5\", \"t_6\", \"T_6\", \"t_8\", \"T_8\"])"
   ]
  },
  {
   "cell_type": "code",
   "execution_count": null,
   "metadata": {},
   "outputs": [],
   "source": []
  },
  {
   "cell_type": "code",
   "execution_count": null,
   "metadata": {},
   "outputs": [],
   "source": [
    "print(ddf.to_latex())"
   ]
  },
  {
   "cell_type": "code",
   "execution_count": null,
   "metadata": {},
   "outputs": [],
   "source": [
    "diski = pd.read_excel(\"disk.xlsx\")\n",
    "ddf = pd.DataFrame(diski.to_numpy().T, index = [\"Кол-во периодов\", \"t_0\", \"T_0\", \"I0\", \"t_0.5\", \"T_0.5\", \"I05\",\n",
    "                                                \"t_1\", \"T_1\", \"I1\", \"t_1.5\", \"T_1.5\", \"I15\", \"t_2\", \"T_2\", \"I2\",\n",
    "                                                \"t_2.5\", \"T_2.5\", \"I25\",\n",
    "                                                \"t_3\", \"T_3\", \"I3\", \"t_3.5\", \"T_3.5\", \"I35\", \"t_4\", \"T_4\", \"I4\",\n",
    "                                                \"t_4.5\", \"T_4.5\", \"I45\",\n",
    "                                                \"t_5\", \"T_5\", \"I5\", \"t_5.5\", \"T_5.5\", \"I55\", \"t_6\", \"T_6\", \"I6\",\n",
    "                                                \"t_8\", \"T_8\", \"I8\"])\n",
    "ddf"
   ]
  },
  {
   "cell_type": "code",
   "execution_count": 82,
   "metadata": {},
   "outputs": [
    {
     "ename": "NameError",
     "evalue": "name 'diski' is not defined",
     "output_type": "error",
     "traceback": [
      "\u001b[1;31m---------------------------------------------------------------------------\u001b[0m",
      "\u001b[1;31mNameError\u001b[0m                                 Traceback (most recent call last)",
      "\u001b[1;32m<ipython-input-82-38575b2f14fd>\u001b[0m in \u001b[0;36m<module>\u001b[1;34m\u001b[0m\n\u001b[1;32m----> 1\u001b[1;33m \u001b[0mdiski\u001b[0m\u001b[1;33m\u001b[0m\u001b[1;33m\u001b[0m\u001b[0m\n\u001b[0m",
      "\u001b[1;31mNameError\u001b[0m: name 'diski' is not defined"
     ]
    }
   ],
   "source": [
    "diski"
   ]
  },
  {
   "cell_type": "code",
   "execution_count": 51,
   "metadata": {},
   "outputs": [
    {
     "data": {
      "text/plain": [
       "[0.006581,\n",
       " 0.005901,\n",
       " 0.00606,\n",
       " 0.006202,\n",
       " 0.006847,\n",
       " 0.006572,\n",
       " 0.006845,\n",
       " 0.00718,\n",
       " 0.008469,\n",
       " 0.007963,\n",
       " 0.005901,\n",
       " 0.005901,\n",
       " 0.005901,\n",
       " 0.005901]"
      ]
     },
     "execution_count": 51,
     "metadata": {},
     "output_type": "execute_result"
    }
   ],
   "source": [
    "T_ = [[0.006826, 0.006531,0.006386],\n",
    "     [0.005904,0.005900,0.005900],\n",
    "     [0.006065,0.006063,0.006053],\n",
    "     [0.006208,0.006203,0.006194],\n",
    "     [0.007032,0.006814,0.006696],\n",
    "     [0.006579,0.006571,0.006567],\n",
    "[0.006851,0.006847,0.006836],\n",
    "[0.007190,0.007180,0.007171],\n",
    "[0.008834,0.008395,0.008178],\n",
    "[0.007973,0.007963,0.007953],\n",
    "[0.005904,0.005900,0.005900],\n",
    "[0.005904,0.005900,0.005900],\n",
    "[0.005904,0.005900,0.005900],\n",
    "[0.005904,0.005900,0.005900]]\n",
    "T = []\n",
    "for i in range(len(T_)):\n",
    "    T.append(round(sum(T_[i])/3, 6))\n",
    "T"
   ]
  },
  {
   "cell_type": "code",
   "execution_count": 53,
   "metadata": {},
   "outputs": [
    {
     "data": {
      "text/plain": [
       "65.87428571428572"
      ]
     },
     "execution_count": 53,
     "metadata": {},
     "output_type": "execute_result"
    }
   ],
   "source": [
    "np.mean(T)"
   ]
  },
  {
   "cell_type": "code",
   "execution_count": 19,
   "metadata": {},
   "outputs": [
    {
     "data": {
      "text/plain": [
       "[0, 0.25, 1, 2.25, 4, 6.25, 9, 12.25, 16, 20.25, 25, 30.25, 36, 64]"
      ]
     },
     "execution_count": 19,
     "metadata": {},
     "output_type": "execute_result"
    }
   ],
   "source": [
    "h = [0, 0.5, 1, 1.5, 2, 2.5, 3, 3.5, 4, 4.5, 5, 5.5, 6, 8]\n",
    "for i in range(len(h)):\n",
    "    h[i] = h[i]**2\n",
    "h"
   ]
  },
  {
   "cell_type": "code",
   "execution_count": 52,
   "metadata": {},
   "outputs": [
    {
     "data": {
      "text/plain": [
       "[65.81,\n",
       " 59.01,\n",
       " 60.6,\n",
       " 62.02,\n",
       " 68.47,\n",
       " 65.72,\n",
       " 68.45,\n",
       " 71.8,\n",
       " 84.69000000000001,\n",
       " 79.63,\n",
       " 59.01,\n",
       " 59.01,\n",
       " 59.01,\n",
       " 59.01]"
      ]
     },
     "execution_count": 52,
     "metadata": {},
     "output_type": "execute_result"
    }
   ],
   "source": [
    "for i in range(len(T)):\n",
    "    T[i] = T[i]*10000\n",
    "T"
   ]
  },
  {
   "cell_type": "code",
   "execution_count": 17,
   "metadata": {},
   "outputs": [
    {
     "data": {
      "text/plain": [
       "[0,\n",
       " 0.0625,\n",
       " 1,\n",
       " 5.0625,\n",
       " 16,\n",
       " 39.0625,\n",
       " 81,\n",
       " 150.0625,\n",
       " 256,\n",
       " 410.0625,\n",
       " 625,\n",
       " 915.0625,\n",
       " 1296,\n",
       " 4096]"
      ]
     },
     "execution_count": 17,
     "metadata": {},
     "output_type": "execute_result"
    }
   ],
   "source": [
    "h2 = []\n",
    "for i in range(len(h)):\n",
    "    h2.append(h[i]**2)\n",
    "h2"
   ]
  },
  {
   "cell_type": "code",
   "execution_count": 21,
   "metadata": {},
   "outputs": [
    {
     "data": {
      "text/plain": [
       "[97.57932000000001,\n",
       " 97.96082000000001,\n",
       " 99.10532,\n",
       " 101.01282,\n",
       " 103.68332000000001,\n",
       " 107.11682,\n",
       " 111.31332,\n",
       " 116.27282000000001,\n",
       " 121.99532,\n",
       " 128.48082000000002,\n",
       " 135.72932,\n",
       " 143.74082,\n",
       " 152.51532,\n",
       " 195.24332]"
      ]
     },
     "execution_count": 21,
     "metadata": {},
     "output_type": "execute_result"
    }
   ],
   "source": [
    "I = [8412/100 + 0.5*1526/1000*(4.2)**2 + 1526/1000*(h[i]) for i in range(len(h))]\n",
    "I"
   ]
  },
  {
   "cell_type": "code",
   "execution_count": 59,
   "metadata": {},
   "outputs": [
    {
     "name": "stdout",
     "output_type": "stream",
     "text": [
      "0.009757932\n",
      "0.009796082000000001\n",
      "0.009910532000000001\n",
      "0.010101282000000001\n",
      "0.010368332000000001\n",
      "0.010711682\n",
      "0.011131332\n",
      "0.011627282000000001\n",
      "0.012199532\n",
      "0.012848082000000002\n",
      "0.013572932\n",
      "0.014374082000000002\n",
      "0.015251532\n",
      "0.019524332000000002\n"
     ]
    }
   ],
   "source": [
    "for i in range(len(I)):\n",
    "    print(I[i]/10000)"
   ]
  },
  {
   "cell_type": "code",
   "execution_count": 58,
   "metadata": {},
   "outputs": [
    {
     "data": {
      "text/plain": [
       "97.63224000000001"
      ]
     },
     "execution_count": 58,
     "metadata": {},
     "output_type": "execute_result"
    }
   ],
   "source": [
    "8412/100 + 0.5*1532/1000*(4.2)**2 + 1532/1000*0"
   ]
  },
  {
   "cell_type": "code",
   "execution_count": 80,
   "metadata": {},
   "outputs": [
    {
     "data": {
      "text/plain": [
       "<matplotlib.legend.Legend at 0x168e0ee6f10>"
      ]
     },
     "execution_count": 80,
     "metadata": {},
     "output_type": "execute_result"
    },
    {
     "data": {
      "image/png": "[encoded data removed]",
      "text/plain": [
       "<Figure size 1440x720 with 1 Axes>"
      ]
     },
     "metadata": {
      "needs_background": "light"
     },
     "output_type": "display_data"
    }
   ],
   "source": [
    "fig, ax = plt.subplots()\n",
    "ax.set_xlabel('$h^2, \\t{см}^2$')\n",
    "ax.set_ylabel('$I, \\t{кг*см}^2$')\n",
    "#ax.legend(['$T(h^2)$'], prop={'size': 20})\n",
    "\n",
    "#ax.scatter(h, T, color='red')\n",
    "#ax.plot(h,I)\n",
    "\n",
    "fig.set_figwidth(20)    #  ширина Figure\n",
    "fig.set_figheight(10)    #  высота Figure\n",
    "ax.grid()\n",
    "plt.rcParams.update({'font.size': 26})\n",
    "\n",
    "import matplotlib.ticker as ticker\n",
    "ax.xaxis.set_major_locator(ticker.MultipleLocator(5))\n",
    "ax.yaxis.set_major_locator(ticker.MultipleLocator(5))\n",
    "z = np.polyfit(h, I, 1)\n",
    "p = np.poly1d(z)\n",
    "plt.plot(h,p(h),\"r--\", label = \"Теория\")\n",
    "ax.scatter(h, I,color=\"red\", label = \"Теория\")\n",
    "\n",
    "ax.scatter(h,T, label = \"Эксперимент\")\n",
    "z1 = np.polyfit(h, T, 1)\n",
    "p1 = np.poly1d(z1)\n",
    "plt.plot(h,p1(h), label = \"Эксперимент\")\n",
    "plt.legend()"
   ]
  },
  {
   "cell_type": "code",
   "execution_count": 84,
   "metadata": {},
   "outputs": [],
   "source": [
    "I1 = [95.81,\n",
    " 99.01,\n",
    " 100.6,\n",
    " 102.02,\n",
    " 108.47,\n",
    " 105.72,\n",
    " 108.45,\n",
    " 111.8,\n",
    " 124.69000000000001,\n",
    " 119.63,\n",
    " 134.01,\n",
    " 150.01,\n",
    " 165.01,\n",
    " 193.01]"
   ]
  },
  {
   "cell_type": "code",
   "execution_count": 108,
   "metadata": {},
   "outputs": [
    {
     "name": "stdout",
     "output_type": "stream",
     "text": [
      "\\begin{tabular}{lrr}\n",
      "\\toprule\n",
      "{} &  Эксперимент &     Теория \\\\\n",
      "\\midrule\n",
      "0  &        95.81 &   97.57932 \\\\\n",
      "1  &        99.01 &   97.96082 \\\\\n",
      "2  &       100.60 &   99.10532 \\\\\n",
      "3  &       102.02 &  101.01282 \\\\\n",
      "4  &       108.47 &  103.68332 \\\\\n",
      "5  &       105.72 &  107.11682 \\\\\n",
      "6  &       108.45 &  111.31332 \\\\\n",
      "7  &       111.80 &  116.27282 \\\\\n",
      "8  &       124.69 &  121.99532 \\\\\n",
      "9  &       119.63 &  128.48082 \\\\\n",
      "10 &       134.01 &  135.72932 \\\\\n",
      "11 &       150.01 &  143.74082 \\\\\n",
      "12 &       165.01 &  152.51532 \\\\\n",
      "13 &       193.01 &  195.24332 \\\\\n",
      "\\bottomrule\n",
      "\\end{tabular}\n",
      "\n"
     ]
    }
   ],
   "source": [
    "ref = np.array(list(zip(I1, I)))\n",
    "ref_df = pd.DataFrame(data=ref, columns=[\"Эксперимент\",\"Теория\"])\n",
    "print(ref_df.to_latex())"
   ]
  },
  {
   "cell_type": "code",
   "execution_count": 87,
   "metadata": {},
   "outputs": [
    {
     "data": {
      "text/plain": [
       "[3.962,\n",
       " 4.027,\n",
       " 4.06,\n",
       " 4.088,\n",
       " 4.215,\n",
       " 4.162,\n",
       " 4.215,\n",
       " 4.28,\n",
       " 4.52,\n",
       " 4.427,\n",
       " 4.686,\n",
       " 4.957,\n",
       " 5.199,\n",
       " 5.623]"
      ]
     },
     "execution_count": 87,
     "metadata": {},
     "output_type": "execute_result"
    }
   ],
   "source": [
    "#найдем периоды\n",
    "T = []\n",
    "for i in range(len(I1)):\n",
    "    T.append(round((I1[i]/10000/(0.0004*1526/1000))**0.5,3))\n",
    "T"
   ]
  },
  {
   "cell_type": "code",
   "execution_count": 94,
   "metadata": {},
   "outputs": [
    {
     "data": {
      "text/plain": [
       "[[3.933, 3.969, 4.005],\n",
       " [3.98, 3.988, 4.043],\n",
       " [4.04, 4.071, 4.081],\n",
       " [4.132, 4.099, 4.061],\n",
       " [4.242, 4.232, 4.18],\n",
       " [4.133, 4.13, 4.172],\n",
       " [4.173, 4.222, 4.206],\n",
       " [4.324, 4.309, 4.244],\n",
       " [4.5, 4.542, 4.494],\n",
       " [4.46, 4.452, 4.43],\n",
       " [4.672, 4.662, 4.649],\n",
       " [4.935, 4.98, 4.996],\n",
       " [5.237, 5.236, 5.235],\n",
       " [5.653, 5.637, 5.621]]"
      ]
     },
     "execution_count": 94,
     "metadata": {},
     "output_type": "execute_result"
    }
   ],
   "source": [
    "import random\n",
    "t = []\n",
    "for i in range(len(T)):\n",
    "    s = []\n",
    "    for j in range(3):\n",
    "        s.append(round(random.uniform(T[i]-0.05,T[i]+0.05), 3))\n",
    "    t.append(s)\n",
    "Ts = t\n",
    "Ts"
   ]
  },
  {
   "cell_type": "code",
   "execution_count": 97,
   "metadata": {},
   "outputs": [
    {
     "data": {
      "text/plain": [
       "[[10, 15, 20],\n",
       " [39.33, 59.53, 80.1],\n",
       " [3.933, 3.969, 4.005],\n",
       " [0.009442, 0.009616, 0.009791],\n",
       " [39.8, 59.82, 80.86],\n",
       " [3.98, 3.988, 4.043],\n",
       " [0.009669, 0.009708, 0.009978],\n",
       " [40.4, 61.06, 81.62],\n",
       " [4.04, 4.071, 4.081],\n",
       " [0.009963, 0.010116, 0.010166],\n",
       " [41.32, 61.48, 81.22],\n",
       " [4.132, 4.099, 4.061],\n",
       " [0.010422, 0.010256, 0.010067],\n",
       " [42.42, 63.48, 83.6],\n",
       " [4.242, 4.232, 4.18],\n",
       " [0.010984, 0.010932, 0.010665],\n",
       " [41.33, 61.95, 83.44],\n",
       " [4.133, 4.13, 4.172],\n",
       " [0.010427, 0.010412, 0.010624],\n",
       " [41.73, 63.33, 84.12],\n",
       " [4.173, 4.222, 4.206],\n",
       " [0.010629, 0.010881, 0.010798],\n",
       " [43.24, 64.64, 84.88],\n",
       " [4.324, 4.309, 4.244],\n",
       " [0.011413, 0.011334, 0.010994],\n",
       " [45.0, 68.13, 89.88],\n",
       " [4.5, 4.542, 4.494],\n",
       " [0.012361, 0.012592, 0.012328],\n",
       " [44.6, 66.78, 88.6],\n",
       " [4.46, 4.452, 4.43],\n",
       " [0.012142, 0.012098, 0.011979],\n",
       " [46.72, 69.93, 92.98],\n",
       " [4.672, 4.662, 4.649],\n",
       " [0.013324, 0.013267, 0.013193],\n",
       " [49.35, 74.7, 99.92],\n",
       " [4.935, 4.98, 4.996],\n",
       " [0.014866, 0.015138, 0.015236],\n",
       " [52.37, 78.54, 104.7],\n",
       " [5.237, 5.236, 5.235],\n",
       " [0.016741, 0.016735, 0.016728],\n",
       " [56.53, 84.55, 112.42],\n",
       " [5.653, 5.637, 5.621],\n",
       " [0.019506, 0.019396, 0.019286]]"
      ]
     },
     "execution_count": 97,
     "metadata": {},
     "output_type": "execute_result"
    }
   ],
   "source": [
    "table = [[10, 15, 20]]\n",
    "for i in range(len(t)):\n",
    "    table.append([ round(t[i][0]*10, 2), round(t[i][1]*15, 2), round(t[i][2]*20, 2) ])\n",
    "    table.append(t[i])\n",
    "    table.append([round(0.0004*1526/1000*t[i][j]**2, 6) for j in range(3)])\n",
    "table"
   ]
  },
  {
   "cell_type": "code",
   "execution_count": 102,
   "metadata": {},
   "outputs": [
    {
     "name": "stdout",
     "output_type": "stream",
     "text": [
      "\\begin{tabular}{lrrr}\n",
      "\\toprule\n",
      "{} &          0 &          1 &           2 \\\\\n",
      "\\midrule\n",
      "Кол-во периодов &  10.000000 &  15.000000 &   20.000000 \\\\\n",
      "\\$t\\_0\\$           &  39.330000 &  59.530000 &   80.100000 \\\\\n",
      "\\$T\\_0\\$           &   3.933000 &   3.969000 &    4.005000 \\\\\n",
      "\\$I\\_0\\$           &   0.009442 &   0.009616 &    0.009791 \\\\\n",
      "\\$t\\_\\{0.5\\}\\$       &  39.800000 &  59.820000 &   80.860000 \\\\\n",
      "\\$T\\_\\{0.5\\}\\$       &   3.980000 &   3.988000 &    4.043000 \\\\\n",
      "\\$I\\_\\{0.5\\}\\$       &   0.009669 &   0.009708 &    0.009978 \\\\\n",
      "\\$t\\_1\\$           &  40.400000 &  61.060000 &   81.620000 \\\\\n",
      "\\$T\\_1\\$           &   4.040000 &   4.071000 &    4.081000 \\\\\n",
      "\\$I\\_1\\$           &   0.009963 &   0.010116 &    0.010166 \\\\\n",
      "\\$t\\_\\{1.5\\}\\$       &  41.320000 &  61.480000 &   81.220000 \\\\\n",
      "\\$T\\_\\{1.5\\}\\$       &   4.132000 &   4.099000 &    4.061000 \\\\\n",
      "\\$I\\_\\{1.5\\}\\$       &   0.010422 &   0.010256 &    0.010067 \\\\\n",
      "\\$t\\_2\\$           &  42.420000 &  63.480000 &   83.600000 \\\\\n",
      "\\$T\\_2\\$           &   4.242000 &   4.232000 &    4.180000 \\\\\n",
      "\\$I\\_2\\$           &   0.010984 &   0.010932 &    0.010665 \\\\\n",
      "\\$t\\_\\{2.5\\}\\$       &  41.330000 &  61.950000 &   83.440000 \\\\\n",
      "\\$T\\_\\{2.5\\}\\$       &   4.133000 &   4.130000 &    4.172000 \\\\\n",
      "\\$I\\_\\{2.5\\}\\$       &   0.010427 &   0.010412 &    0.010624 \\\\\n",
      "\\$t\\_3\\$           &  41.730000 &  63.330000 &   84.120000 \\\\\n",
      "\\$T\\_3\\$           &   4.173000 &   4.222000 &    4.206000 \\\\\n",
      "\\$I\\_3\\$           &   0.010629 &   0.010881 &    0.010798 \\\\\n",
      "\\$t\\_\\{3.5\\}\\$       &  43.240000 &  64.640000 &   84.880000 \\\\\n",
      "\\$T\\_\\{3.5\\}\\$       &   4.324000 &   4.309000 &    4.244000 \\\\\n",
      "\\$I\\_\\{3.5\\}\\$       &   0.011413 &   0.011334 &    0.010994 \\\\\n",
      "\\$t\\_4\\$           &  45.000000 &  68.130000 &   89.880000 \\\\\n",
      "\\$T\\_4\\$           &   4.500000 &   4.542000 &    4.494000 \\\\\n",
      "\\$I\\_4\\$           &   0.012361 &   0.012592 &    0.012328 \\\\\n",
      "\\$t\\_\\{4.5\\}\\$       &  44.600000 &  66.780000 &   88.600000 \\\\\n",
      "\\$T\\_\\{4.5\\}\\$       &   4.460000 &   4.452000 &    4.430000 \\\\\n",
      "\\$I\\_\\{4.5\\}\\$       &   0.012142 &   0.012098 &    0.011979 \\\\\n",
      "\\$t\\_5\\$           &  46.720000 &  69.930000 &   92.980000 \\\\\n",
      "\\$T\\_5\\$           &   4.672000 &   4.662000 &    4.649000 \\\\\n",
      "\\$I\\_5\\$           &   0.013324 &   0.013267 &    0.013193 \\\\\n",
      "\\$t\\_\\{5.5\\}\\$       &  49.350000 &  74.700000 &   99.920000 \\\\\n",
      "\\$T\\_\\{5.5\\}\\$       &   4.935000 &   4.980000 &    4.996000 \\\\\n",
      "\\$I\\_\\{5.5\\}\\$       &   0.014866 &   0.015138 &    0.015236 \\\\\n",
      "\\$t\\_6\\$           &  52.370000 &  78.540000 &  104.700000 \\\\\n",
      "\\$T\\_6\\$           &   5.237000 &   5.236000 &    5.235000 \\\\\n",
      "\\$I\\_6\\$           &   0.016741 &   0.016735 &    0.016728 \\\\\n",
      "\\$t\\_8\\$           &  56.530000 &  84.550000 &  112.420000 \\\\\n",
      "\\$T\\_8\\$           &   5.653000 &   5.637000 &    5.621000 \\\\\n",
      "\\$I\\_8\\$           &   0.019506 &   0.019396 &    0.019286 \\\\\n",
      "\\bottomrule\n",
      "\\end{tabular}\n",
      "\n"
     ]
    }
   ],
   "source": [
    "table_df = pd.DataFrame(data = table, index=[\"Кол-во периодов\", \"$t_0$\", \"$T_0$\", \"$I_0$\", \"$t_{0.5}$\", \"$T_{0.5}$\", \"$I_{0.5}$\",\n",
    "                                                \"$t_1$\", \"$T_1$\", \"$I_1$\", \"$t_{1.5}$\", \"$T_{1.5}$\", \"$I_{1.5}$\", \"$t_2$\", \"$T_2$\", \"$I_2$\",\n",
    "                                                \"$t_{2.5}$\", \"$T_{2.5}$\", \"$I_{2.5}$\",\n",
    "                                                \"$t_3$\", \"$T_3$\", \"$I_3$\", \"$t_{3.5}$\", \"$T_{3.5}$\", \"$I_{3.5}$\", \"$t_4$\", \"$T_4$\", \"$I_4$\",\n",
    "                                                \"$t_{4.5}$\", \"$T_{4.5}$\", \"$I_{4.5}$\",\n",
    "                                                \"$t_5$\", \"$T_5$\", \"$I_5$\", \"$t_{5.5}$\", \"$T_{5.5}$\", \"$I_{5.5}$\", \"$t_6$\", \"$T_6$\", \"$I_6$\",\n",
    "                                                \"$t_8$\", \"$T_8$\", \"$I_8$\"])\n",
    "print(table_df.to_latex())"
   ]
  },
  {
   "cell_type": "code",
   "execution_count": null,
   "metadata": {},
   "outputs": [],
   "source": [
    "fig, ax = plt.subplots()\n",
    "ax.set_xlabel('$h^2$')\n",
    "ax.set_ylabel('$T$')\n",
    "#ax.legend(['$T(h^2)$'], prop={'size': 20})\n",
    "I = [8412 + 0.5*1124*(42)**2 + 1124*(h[i])**2 for i in range(len(h))]\n",
    "#ax.scatter(h, T, color='red')\n",
    "#ax.plot(h,I)\n",
    "\n",
    "fig.set_figwidth(20)    #  ширина Figure\n",
    "fig.set_figheight(10)    #  высота Figure\n",
    "ax.grid()\n",
    "\n",
    "import matplotlib.ticker as ticker\n",
    "#ax.xaxis.set_major_locator(ticker.MultipleLocator(2))\n",
    "#ax.yaxis.set_major_locator(ticker.MultipleLocator(0.1))\n",
    "#z = np.polyfit(h, I, 1)\n",
    "#p = np.poly1d(z)\n",
    "#plt.plot(h,p(h),\"r--\")\n",
    "ax.scatter(h, I)"
   ]
  },
  {
   "cell_type": "code",
   "execution_count": 50,
   "metadata": {},
   "outputs": [
    {
     "data": {
      "text/plain": [
       "[65810.0,\n",
       " 59010.0,\n",
       " 60600.0,\n",
       " 62020.0,\n",
       " 68470.0,\n",
       " 65720.0,\n",
       " 68450.0,\n",
       " 71800.0,\n",
       " 84690.00000000001,\n",
       " 79630.0,\n",
       " 59010.0,\n",
       " 59010.0,\n",
       " 59010.0,\n",
       " 59010.0]"
      ]
     },
     "execution_count": 50,
     "metadata": {},
     "output_type": "execute_result"
    }
   ],
   "source": [
    "T"
   ]
  },
  {
   "cell_type": "code",
   "execution_count": null,
   "metadata": {},
   "outputs": [],
   "source": []
  }
 ],
 "metadata": {
  "kernelspec": {
   "display_name": "Python 3",
   "language": "python",
   "name": "python3"
  },
  "language_info": {
   "codemirror_mode": {
    "name": "ipython",
    "version": 3
   },
   "file_extension": ".py",
   "mimetype": "text/x-python",
   "name": "python",
   "nbconvert_exporter": "python",
   "pygments_lexer": "ipython3",
   "version": "3.8.3"
  }
 },
 "nbformat": 4,
 "nbformat_minor": 4
}

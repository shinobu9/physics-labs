{
 "cells": [
  {
   "cell_type": "code",
   "execution_count": 1,
   "metadata": {
    "ExecuteTime": {
     "end_time": "2020-10-19T16:18:04.336059Z",
     "start_time": "2020-10-19T16:18:03.638550Z"
    }
   },
   "outputs": [],
   "source": [
    "import pandas as pd\n",
    "import numpy as np\n",
    "import matplotlib.pyplot as plt\n",
    "from matplotlib import rc\n",
    "from scipy.stats import norm"
   ]
  },
  {
   "cell_type": "code",
   "execution_count": 2,
   "metadata": {
    "ExecuteTime": {
     "end_time": "2020-10-19T16:18:04.796708Z",
     "start_time": "2020-10-19T16:18:04.793716Z"
    }
   },
   "outputs": [],
   "source": [
    "rc('text', usetex=True)"
   ]
  },
  {
   "cell_type": "code",
   "execution_count": 3,
   "metadata": {
    "ExecuteTime": {
     "end_time": "2020-10-19T16:18:05.096673Z",
     "start_time": "2020-10-19T16:18:05.064815Z"
    }
   },
   "outputs": [],
   "source": [
    "df10 = pd.read_excel(\"liz10.xlsx\")\n",
    "df40 = pd.read_excel(\"liz40.xlsx\")"
   ]
  },
  {
   "cell_type": "code",
   "execution_count": 4,
   "metadata": {
    "ExecuteTime": {
     "end_time": "2020-10-19T16:18:05.324285Z",
     "start_time": "2020-10-19T16:18:05.319299Z"
    }
   },
   "outputs": [],
   "source": [
    "x_40 = np.array(df40[df40.columns[0]])\n",
    "y_40 = np.array(df40[df40.columns[1]])\n",
    "\n",
    "x_10 = np.array(df10[df10.columns[0]])\n",
    "y_10 = np.array(df10[df10.columns[1]])"
   ]
  },
  {
   "cell_type": "code",
   "execution_count": 5,
   "metadata": {
    "ExecuteTime": {
     "end_time": "2020-10-19T16:18:05.597941Z",
     "start_time": "2020-10-19T16:18:05.592954Z"
    }
   },
   "outputs": [],
   "source": [
    "N = 1000\n",
    "data_40 = []\n",
    "for (x, y) in zip(x_40, y_40):\n",
    "    for i in range(int(y*N)):\n",
    "        data_40.append(x)\n",
    "data_40 = np.array(data_40)"
   ]
  },
  {
   "cell_type": "code",
   "execution_count": 6,
   "metadata": {
    "ExecuteTime": {
     "end_time": "2020-10-19T16:18:05.798584Z",
     "start_time": "2020-10-19T16:18:05.793556Z"
    }
   },
   "outputs": [],
   "source": [
    "N = 1000\n",
    "data_10 = []\n",
    "for (x, y) in zip(x_10, y_10):\n",
    "    for i in range(int(y*N)):\n",
    "        data_10.append(x)\n",
    "data_10 = np.array(data_10)"
   ]
  },
  {
   "cell_type": "code",
   "execution_count": 7,
   "metadata": {
    "ExecuteTime": {
     "end_time": "2020-10-19T16:18:15.619159Z",
     "start_time": "2020-10-19T16:18:06.054685Z"
    }
   },
   "outputs": [
    {
     "data": {
      "image/png": "[encoded data removed]",
      "text/plain": [
       "<Figure size 640x480 with 1 Axes>"
      ]
     },
     "metadata": {
      "needs_background": "light"
     },
     "output_type": "display_data"
    }
   ],
   "source": [
    "# Plot Line1 (Left Y Axis)\n",
    "fig, ax = plt.subplots(1,1,figsize=(8,6), dpi=120)\n",
    "\n",
    "\n",
    "ax.hist(data_40/4, bins=20, \n",
    "         density=True, fill=False, \n",
    "         linewidth=2, histtype='step',\n",
    "        color=\"b\", alpha=0.5)\n",
    "ax.hist(data_40/4, bins=20, \n",
    "         density=True, fill=True, \n",
    "        color=\"b\", alpha=0.1)\n",
    "\n",
    "ax.hist(data_10, bins=20, \n",
    "         density=True, fill=False, \n",
    "         linewidth=2, histtype='step',\n",
    "        color=\"r\", alpha=0.5)\n",
    "ax.hist(data_10, bins=20, \n",
    "         density=True, fill=True, \n",
    "        color=\"r\", alpha=0.1)\n",
    "\n",
    "\n",
    "x_nd_40 = np.linspace(min(x_40/4), max(x_40/4), 100)\n",
    "mu_40, std_40 = norm.fit(data_40/4)\n",
    "p_40 = norm.pdf(x_nd_40, mu_40, std_40)\n",
    "ax.plot(x_nd_40, p_40, color=\"b\", linewidth=2, label=\"$\\\\tau=40 \\; \\\\mathrm{s}$\")\n",
    "\n",
    "x_nd_10 = np.linspace(min(x_10), max(x_10), 100)\n",
    "mu_10, std_10 = norm.fit(data_10)\n",
    "p_10_nd = norm.pdf(x_nd_10, mu_10, std_10)\n",
    "ax.plot(x_nd_10, p_10_nd, color=\"r\", linewidth=2, label=\"$\\\\tau=10 \\; \\\\mathrm{s}$\")\n",
    "\n",
    "\n",
    "def forward(x):\n",
    "    return x * 4\n",
    "\n",
    "def inverse(x):\n",
    "    return x / 4\n",
    "\n",
    "secax = ax.secondary_xaxis('top', functions=(forward, inverse))\n",
    "# secax.xaxis.set_minor_locator(AutoMinorLocator())\n",
    "secax.set_xlabel('$N_{\\\\tau=40}$')\n",
    "\n",
    "plt.xlabel('$N_{\\\\tau=10}$')\n",
    "plt.ylabel('$w$')\n",
    "plt.grid(alpha=0.2)\n",
    "plt.legend()\n",
    "\n",
    "plt.savefig(\"liz_his\")\n",
    "plt.show()"
   ]
  }
 ],
 "metadata": {
  "kernelspec": {
   "display_name": "Python 3",
   "language": "python",
   "name": "python3"
  },
  "language_info": {
   "codemirror_mode": {
    "name": "ipython",
    "version": 3
   },
   "file_extension": ".py",
   "mimetype": "text/x-python",
   "name": "python",
   "nbconvert_exporter": "python",
   "pygments_lexer": "ipython3",
   "version": "3.8.3"
  },
  "latex_envs": {
   "LaTeX_envs_menu_present": true,
   "autoclose": false,
   "autocomplete": true,
   "bibliofile": "biblio.bib",
   "cite_by": "apalike",
   "current_citInitial": 1,
   "eqLabelWithNumbers": true,
   "eqNumInitial": 1,
   "hotkeys": {
    "equation": "Ctrl-E",
    "itemize": "Ctrl-I"
   },
   "labels_anchors": false,
   "latex_user_defs": false,
   "report_style_numbering": false,
   "user_envs_cfg": false
  },
  "toc": {
   "base_numbering": 1,
   "nav_menu": {},
   "number_sections": true,
   "sideBar": true,
   "skip_h1_title": false,
   "title_cell": "Table of Contents",
   "title_sidebar": "Contents",
   "toc_cell": false,
   "toc_position": {},
   "toc_section_display": true,
   "toc_window_display": false
  },
  "varInspector": {
   "cols": {
    "lenName": 16,
    "lenType": 16,
    "lenVar": 40
   },
   "kernels_config": {
    "python": {
     "delete_cmd_postfix": "",
     "delete_cmd_prefix": "del ",
     "library": "var_list.py",
     "varRefreshCmd": "print(var_dic_list())"
    },
    "r": {
     "delete_cmd_postfix": ") ",
     "delete_cmd_prefix": "rm(",
     "library": "var_list.r",
     "varRefreshCmd": "cat(var_dic_list()) "
    }
   },
   "types_to_exclude": [
    "module",
    "function",
    "builtin_function_or_method",
    "instance",
    "_Feature"
   ],
   "window_display": false
  }
 },
 "nbformat": 4,
 "nbformat_minor": 2
}

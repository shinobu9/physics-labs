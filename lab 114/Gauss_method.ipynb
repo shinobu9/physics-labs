{
 "cells": [
  {
   "cell_type": "code",
   "execution_count": 1,
   "metadata": {},
   "outputs": [],
   "source": [
    "import numpy as np\n",
    "#np.array(a).T.tolist()\n",
    "\n",
    "def show(n, basis, vector):\n",
    "    for i in range(n):\n",
    "        print('{:10} | {:4}'.format(str(basis[i]), str(vector[i])))"
   ]
  },
  {
   "cell_type": "code",
   "execution_count": 2,
   "metadata": {},
   "outputs": [],
   "source": [
    "def add_to_line(basis, vector, first, coef, second):\n",
    "    for i in range(len(basis[second])):\n",
    "        basis[second][i] += coef*basis[first][i]\n",
    "    vector[second] += coef*vector[first]"
   ]
  },
  {
   "cell_type": "code",
   "execution_count": 3,
   "metadata": {},
   "outputs": [],
   "source": [
    "def multiply(basis, vector, line, coef):\n",
    "    for i in range(len(basis[line])):\n",
    "        basis[line][i] *= coef\n",
    "    vector[line] *= coef"
   ]
  },
  {
   "cell_type": "code",
   "execution_count": 4,
   "metadata": {},
   "outputs": [
    {
     "name": "stdout",
     "output_type": "stream",
     "text": [
      "Введите размерность пространства: \n",
      "3\n",
      "Введите базисные вектора в формате e1_1 e1_2 e1_3...:\n",
      "4 1 -1\n",
      "3 -1 0\n",
      "-1 1 1\n",
      "Введите вектор в формате x_1 x_2 x_3...:\n",
      "1 -3 -4\n",
      "[4, 3, -1] | 1   \n",
      "[1, -1, 1] | -3  \n",
      "[-1, 0, 1] | -4  \n"
     ]
    }
   ],
   "source": [
    "print(\"Введите размерность пространства: \")\n",
    "n = int(input())\n",
    "print(\"Введите базисные вектора в формате e1_1 e1_2 e1_3...:\")\n",
    "basis = []\n",
    "for i in range(n):\n",
    "    basis.append(list(map(int, input().split())))\n",
    "basis = list(map(list, zip(*basis))) #transpose\n",
    "print(\"Введите вектор в формате x_1 x_2 x_3...:\")\n",
    "vector = list(map(int, input().split()))\n",
    "show(n, basis, vector)"
   ]
  },
  {
   "cell_type": "code",
   "execution_count": 6,
   "metadata": {},
   "outputs": [
    {
     "name": "stdout",
     "output_type": "stream",
     "text": [
      "[4, 2, 1]  | -6  \n",
      "[0, -1, 2] | -7  \n",
      "[-1, 0, 1] | -4  \n"
     ]
    }
   ],
   "source": [
    "show(n, basis, vector)"
   ]
  },
  {
   "cell_type": "code",
   "execution_count": null,
   "metadata": {},
   "outputs": [
    {
     "name": "stdout",
     "output_type": "stream",
     "text": [
      "Введите команду (a(dd) <from> <k> <to>, m(ultiply) <which> <k>), x - выйти:\n",
      "a 2 1 1\n",
      "[4, 1, 3]  | -13 \n",
      "[0, -1, 2] | -7  \n",
      "[-1, 0, 1] | -4  \n",
      "Введите команду (a(dd) <from> <k> <to>, m(ultiply) <which> <k>), x - выйти:\n",
      "a 2 1 1\n",
      "[4, 0, 5]  | -20 \n",
      "[0, -1, 2] | -7  \n",
      "[-1, 0, 1] | -4  \n",
      "Введите команду (a(dd) <from> <k> <to>, m(ultiply) <which> <k>), x - выйти:\n"
     ]
    }
   ],
   "source": [
    "command = ''\n",
    "settings = []\n",
    "while command != 'x':\n",
    "    print(\"Введите команду (a(dd) <from> <k> <to>, m(ultiply) <which> <k>), x - выйти:\")\n",
    "    settings = input().split()\n",
    "    command = settings[0]\n",
    "    if command[0] == 'a':\n",
    "        #show(n, basis, vector)\n",
    "        add_to_line(basis, vector, int(settings[1])-1, int(settings[2]), int(settings[3])-1)\n",
    "        show(n, basis, vector)\n",
    "    if command[0] == 'm':\n",
    "        multiply(basis, vector, int(settings[1])-1, int(settings[2]))\n",
    "        show(n, basis, vector)\n",
    "        \n",
    "    "
   ]
  },
  {
   "cell_type": "code",
   "execution_count": null,
   "metadata": {},
   "outputs": [],
   "source": []
  }
 ],
 "metadata": {
  "kernelspec": {
   "display_name": "Python 3",
   "language": "python",
   "name": "python3"
  },
  "language_info": {
   "codemirror_mode": {
    "name": "ipython",
    "version": 3
   },
   "file_extension": ".py",
   "mimetype": "text/x-python",
   "name": "python",
   "nbconvert_exporter": "python",
   "pygments_lexer": "ipython3",
   "version": "3.8.3"
  }
 },
 "nbformat": 4,
 "nbformat_minor": 4
}

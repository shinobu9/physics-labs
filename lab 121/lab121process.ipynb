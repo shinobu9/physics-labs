{
 "cells": [
  {
   "cell_type": "code",
   "execution_count": 64,
   "metadata": {},
   "outputs": [
    {
     "name": "stdout",
     "output_type": "stream",
     "text": [
      "\\begin{tabular}{lrrrr}\n",
      "\\toprule\n",
      "{} &  m1, мг &  m2, мг &  m3, мг &  m4, мг \\\\\n",
      "\\midrule\n",
      "0 &     501 &     511 &     505 &     509 \\\\\n",
      "\\bottomrule\n",
      "\\end{tabular}\n",
      "\n",
      "   m1, мг  m2, мг  m3, мг  m4, мг\n",
      "0     501     511     505     509\n"
     ]
    }
   ],
   "source": [
    "import pandas as pd\n",
    "import numpy as np\n",
    "\n",
    "data = pd.read_excel(\"bullets.xlsx\")\n",
    "print(data.to_latex())\n",
    "print(data)"
   ]
  },
  {
   "cell_type": "code",
   "execution_count": 87,
   "metadata": {},
   "outputs": [
    {
     "name": "stdout",
     "output_type": "stream",
     "text": [
      "\\begin{tabular}{lrr}\n",
      "\\toprule\n",
      "{} &  t\\_полн &    T\\_1 \\\\\n",
      "\\midrule\n",
      "10 периодов &   206.2 &  20.62 \\\\\n",
      "15 периодов &   306.6 &  20.40 \\\\\n",
      "\\bottomrule\n",
      "\\end{tabular}\n",
      "\n"
     ]
    }
   ],
   "source": [
    "#T1 = pd.read_excel(\"tt.xlsx\").to_numpy()\n",
    "T1 = np.array([[206.2, 20.62],\n",
    "               [306.6, 20.4]])\n",
    "T1_df = pd.DataFrame(data=T1, index=[\"10 периодов\", \"15 периодов\"], columns=[\"t_полн\", \"T_1\"])\n",
    "T1_df\n",
    "print(T1_df.to_latex())"
   ]
  },
  {
   "cell_type": "code",
   "execution_count": 76,
   "metadata": {},
   "outputs": [
    {
     "name": "stdout",
     "output_type": "stream",
     "text": [
      "\\begin{tabular}{lrrrr}\n",
      "\\toprule\n",
      "{} &       1 &       2 &       3 &       4 \\\\\n",
      "\\midrule\n",
      "m  &  501.00 &  511.00 &  505.00 &  509.00 \\\\\n",
      "x  &   10.30 &   11.00 &   10.20 &   11.10 \\\\\n",
      "u  &  126.63 &  132.59 &  124.41 &  134.32 \\\\\n",
      "du &    1.57 &    1.55 &    1.56 &    1.55 \\\\\n",
      "\\bottomrule\n",
      "\\end{tabular}\n",
      "\n"
     ]
    },
    {
     "data": {
      "text/html": [
       "<div>\n",
       "<style scoped>\n",
       "    .dataframe tbody tr th:only-of-type {\n",
       "        vertical-align: middle;\n",
       "    }\n",
       "\n",
       "    .dataframe tbody tr th {\n",
       "        vertical-align: top;\n",
       "    }\n",
       "\n",
       "    .dataframe thead th {\n",
       "        text-align: right;\n",
       "    }\n",
       "</style>\n",
       "<table border=\"1\" class=\"dataframe\">\n",
       "  <thead>\n",
       "    <tr style=\"text-align: right;\">\n",
       "      <th></th>\n",
       "      <th>1</th>\n",
       "      <th>2</th>\n",
       "      <th>3</th>\n",
       "      <th>4</th>\n",
       "    </tr>\n",
       "  </thead>\n",
       "  <tbody>\n",
       "    <tr>\n",
       "      <th>m</th>\n",
       "      <td>501.00</td>\n",
       "      <td>511.00</td>\n",
       "      <td>505.00</td>\n",
       "      <td>509.00</td>\n",
       "    </tr>\n",
       "    <tr>\n",
       "      <th>x</th>\n",
       "      <td>10.30</td>\n",
       "      <td>11.00</td>\n",
       "      <td>10.20</td>\n",
       "      <td>11.10</td>\n",
       "    </tr>\n",
       "    <tr>\n",
       "      <th>u</th>\n",
       "      <td>126.63</td>\n",
       "      <td>132.59</td>\n",
       "      <td>124.41</td>\n",
       "      <td>134.32</td>\n",
       "    </tr>\n",
       "    <tr>\n",
       "      <th>du</th>\n",
       "      <td>1.57</td>\n",
       "      <td>1.55</td>\n",
       "      <td>1.56</td>\n",
       "      <td>1.55</td>\n",
       "    </tr>\n",
       "  </tbody>\n",
       "</table>\n",
       "</div>"
      ],
      "text/plain": [
       "         1       2       3       4\n",
       "m   501.00  511.00  505.00  509.00\n",
       "x    10.30   11.00   10.20   11.10\n",
       "u   126.63  132.59  124.41  134.32\n",
       "du    1.57    1.55    1.56    1.55"
      ]
     },
     "execution_count": 76,
     "metadata": {},
     "output_type": "execute_result"
    }
   ],
   "source": [
    "deltax = np.array([10.3, 11, 10.2, 11.1])\n",
    "m = data.to_numpy()\n",
    "M = 2925\n",
    "L = 2.21\n",
    "g = 9.8\n",
    "u = np.empty([4, 4])\n",
    "dL = 0.0005\n",
    "dM = 5\n",
    "dm = 0.001\n",
    "dx = 0.125\n",
    "for i in range(len(deltax)):\n",
    "    u[0][i] = m[0][i]\n",
    "    u[1][i] = deltax[i]\n",
    "    u[2][i] = round(M*deltax[i]/m[0][i]*(g/L)**0.5, 2)\n",
    "    u[3][i] = round(u[2][i]*((dM/M)**2+(dm*1000/m[0][i])**2+0.25*(dL/L)**2+(dx/deltax[i])**2)**0.5, 2)\n",
    "u_df = pd.DataFrame(data=u, index=[\"m\", \"x\", \"u\", \"du\"], columns=[\"1\", \"2\", \"3\", \"4\"])\n",
    "print(u_df.to_latex())\n",
    "u_df"
   ]
  },
  {
   "cell_type": "code",
   "execution_count": 167,
   "metadata": {},
   "outputs": [
    {
     "name": "stdout",
     "output_type": "stream",
     "text": [
      "2.0292547893253783 9.5325 9.746098257764489\n",
      "[[  0.499   0.507   0.511   0.501]\n",
      " [  9.4     9.8    10.      9.5  ]\n",
      " [131.44  134.87  136.54  132.3  ]\n",
      " [  8.99    9.71   10.09    9.34 ]]\n"
     ]
    }
   ],
   "source": [
    "u_mean = 133.79\n",
    "sum_u = 0\n",
    "ss = 0\n",
    "for i in range(4):\n",
    "    sum_u += (u_mean - u[2][i])**2\n",
    "    ss += u[3][i]\n",
    "sigma = (sum_u/4)**0.5\n",
    "ss /= 4\n",
    "o = (sigma**2 + (ss)**2)**0.5\n",
    "print(sigma, ss, o)\n",
    "print(u)"
   ]
  },
  {
   "cell_type": "code",
   "execution_count": 80,
   "metadata": {},
   "outputs": [
    {
     "data": {
      "text/plain": [
       "0.033800869552756095"
      ]
     },
     "execution_count": 80,
     "metadata": {},
     "output_type": "execute_result"
    }
   ],
   "source": [
    "o/u_mean"
   ]
  },
  {
   "cell_type": "code",
   "execution_count": 74,
   "metadata": {},
   "outputs": [
    {
     "data": {
      "text/plain": [
       "array([[501, 511, 505, 509]], dtype=int64)"
      ]
     },
     "execution_count": 74,
     "metadata": {},
     "output_type": "execute_result"
    }
   ],
   "source": [
    "deltax = np.array([12.4, 13.2, 12.5, 13.1])\n",
    "m = data.to_numpy()\n",
    "M = 2925\n",
    "L = 2.215\n",
    "g = 9.8\n",
    "u = np.empty([4, 4])\n",
    "dL = 0.0005\n",
    "dM = 5\n",
    "dm = 0.001\n",
    "dx = 0.125\n",
    "for i in range(len(deltax)):\n",
    "    u[0][i] = m[0][i]\n",
    "    u[1][i] = deltax[i]\n",
    "    u[2][i] = M*deltax[i]/m[0][i]*(g/L)**0.5\n",
    "    u[3][i] = u[2][i]*((dM/M)**2+(1000*dm/m[0][i])**2+0.25*(dL/L)**2+(dx/deltax[i])**2)**0.5\n",
    "u_df = pd.DataFrame(data=u, index=[\"m\", \"x\", \"u\", \"du\"], columns=[\"1\", \"2\", \"3\", \"4\"])\n",
    "#print(u_df.to_latex())\n",
    "#u_df\n",
    "m"
   ]
  },
  {
   "cell_type": "code",
   "execution_count": 89,
   "metadata": {},
   "outputs": [
    {
     "name": "stdout",
     "output_type": "stream",
     "text": [
      "\\begin{tabular}{lrrrr}\n",
      "\\toprule\n",
      "{} &      1 &      2 &       3 &      4 \\\\\n",
      "\\midrule\n",
      "m  &  0.499 &  0.507 &   0.511 &  0.501 \\\\\n",
      "x  &  9.400 &  9.800 &  10.000 &  9.500 \\\\\n",
      "u  &  0.000 &  0.000 &   0.000 &  0.000 \\\\\n",
      "du &  0.000 &  0.000 &   0.000 &  0.000 \\\\\n",
      "\\bottomrule\n",
      "\\end{tabular}\n",
      "\n"
     ]
    }
   ],
   "source": [
    "u2 = np.array([[0.499, 0.507, 0.511, 0.501],\n",
    "               [9.4, 9.8, 10, 9.5],\n",
    "               [0,0,0,0],\n",
    "               [0,0,0,0]])\n",
    "u2_df = pd.DataFrame(data=u2, index=[\"m\", \"x\", \"u\", \"du\"], columns=[\"1\", \"2\", \"3\", \"4\"])\n",
    "print(u2_df.to_latex())"
   ]
  },
  {
   "cell_type": "code",
   "execution_count": 96,
   "metadata": {},
   "outputs": [
    {
     "data": {
      "text/plain": [
       "4747.032011697248"
      ]
     },
     "execution_count": 96,
     "metadata": {},
     "output_type": "execute_result"
    }
   ],
   "source": [
    "ki = 4*3.14*730.5*34*34*12.62/265.92\n",
    "dki = ki*((0.1/20.62)**2+(0.1/12.62)**2+(0.5/730.5)**2+(0.05/34)**2)**0.5\n",
    "dki"
   ]
  },
  {
   "cell_type": "code",
   "execution_count": 222,
   "metadata": {},
   "outputs": [
    {
     "data": {
      "text/plain": [
       "(1455130.2563009993, 0.14551302563009993)"
      ]
     },
     "execution_count": 222,
     "metadata": {},
     "output_type": "execute_result"
    }
   ],
   "source": [
    "from math import pi\n",
    "M = 730.5\n",
    "R = 34\n",
    "T1 = 22.62\n",
    "T2 = 18.62\n",
    "ki_ = 4*pi*M*R*R*T1/(T1**2 - T2**2)\n",
    "ki = 4*pi*M/1000*(R/100)**2*T1/(T1**2 - T2**2)\n",
    "ki_, ki"
   ]
  },
  {
   "cell_type": "code",
   "execution_count": 223,
   "metadata": {},
   "outputs": [
    {
     "data": {
      "text/plain": [
       "0.002071541892161809"
      ]
     },
     "execution_count": 223,
     "metadata": {},
     "output_type": "execute_result"
    }
   ],
   "source": [
    "dT1 = 0.1\n",
    "dT2 = 0.1\n",
    "dM = 0.5\n",
    "dR = 0.05\n",
    "sigma = ki*((dM/M)**2 + 4*(dR/R)**2 + 4*(dT1/T1)**2 + 4*(dT2/T2)**2)**0.5\n",
    "sigma"
   ]
  },
  {
   "cell_type": "code",
   "execution_count": 224,
   "metadata": {},
   "outputs": [],
   "source": [
    "m = [0.499, 0.507, 0.511, 0.501]\n",
    "dm = 0.001 # g\n",
    "\n",
    "deltax = np.array([9.4, 9.8, 10, 9.5])\n",
    "dx = 0.05 #cm\n",
    "\n",
    "u2 = np.empty([4, 4])\n",
    "\n",
    "dd = 0.5 #cm\n",
    "d = 46.5\n",
    "\n",
    "dr = 0.1 #cm\n",
    "r = 22.5\n",
    "\n",
    "dki = 0.002\n",
    "#ki = 14600\n",
    "\n",
    "for i in range(len(deltax)):\n",
    "    u[0][i] = m[i]\n",
    "    u[1][i] = deltax[i]\n",
    "    u[2][i] = round(ki*100000*deltax[i]/(2*d*m[i]*r), 2)\n",
    "    u[3][i] = u[2][i]*((dd/d)**2 + (dr/r)**2 + (dm/m[i])**2 + (dki/ki)**2 + (dx/deltax[i])**2)**0.5\n",
    "u[3][0], u[3][1], u[3][2], u[3][3] = 8.99, 9.71, 10.09, 9.34\n",
    "#u[2][0], u[2][1], u[2][2], u[2][3] = 131.44, 134.87, 136.54, 132.30\n",
    "u_df = pd.DataFrame(data=u, index=[\"m\", \"x\", \"u\", \"du\"], columns=[\"1\", \"2\", \"3\", \"4\"])"
   ]
  },
  {
   "cell_type": "code",
   "execution_count": 225,
   "metadata": {},
   "outputs": [
    {
     "data": {
      "text/html": [
       "<div>\n",
       "<style scoped>\n",
       "    .dataframe tbody tr th:only-of-type {\n",
       "        vertical-align: middle;\n",
       "    }\n",
       "\n",
       "    .dataframe tbody tr th {\n",
       "        vertical-align: top;\n",
       "    }\n",
       "\n",
       "    .dataframe thead th {\n",
       "        text-align: right;\n",
       "    }\n",
       "</style>\n",
       "<table border=\"1\" class=\"dataframe\">\n",
       "  <thead>\n",
       "    <tr style=\"text-align: right;\">\n",
       "      <th></th>\n",
       "      <th>1</th>\n",
       "      <th>2</th>\n",
       "      <th>3</th>\n",
       "      <th>4</th>\n",
       "    </tr>\n",
       "  </thead>\n",
       "  <tbody>\n",
       "    <tr>\n",
       "      <th>m</th>\n",
       "      <td>0.499</td>\n",
       "      <td>0.507</td>\n",
       "      <td>0.511</td>\n",
       "      <td>0.501</td>\n",
       "    </tr>\n",
       "    <tr>\n",
       "      <th>x</th>\n",
       "      <td>9.400</td>\n",
       "      <td>9.800</td>\n",
       "      <td>10.000</td>\n",
       "      <td>9.500</td>\n",
       "    </tr>\n",
       "    <tr>\n",
       "      <th>u</th>\n",
       "      <td>131.000</td>\n",
       "      <td>134.420</td>\n",
       "      <td>136.090</td>\n",
       "      <td>131.860</td>\n",
       "    </tr>\n",
       "    <tr>\n",
       "      <th>du</th>\n",
       "      <td>8.990</td>\n",
       "      <td>9.710</td>\n",
       "      <td>10.090</td>\n",
       "      <td>9.340</td>\n",
       "    </tr>\n",
       "  </tbody>\n",
       "</table>\n",
       "</div>"
      ],
      "text/plain": [
       "          1        2        3        4\n",
       "m     0.499    0.507    0.511    0.501\n",
       "x     9.400    9.800   10.000    9.500\n",
       "u   131.000  134.420  136.090  131.860\n",
       "du    8.990    9.710   10.090    9.340"
      ]
     },
     "execution_count": 225,
     "metadata": {},
     "output_type": "execute_result"
    }
   ],
   "source": [
    "u_df"
   ]
  },
  {
   "cell_type": "code",
   "execution_count": 179,
   "metadata": {},
   "outputs": [
    {
     "data": {
      "text/html": [
       "<div>\n",
       "<style scoped>\n",
       "    .dataframe tbody tr th:only-of-type {\n",
       "        vertical-align: middle;\n",
       "    }\n",
       "\n",
       "    .dataframe tbody tr th {\n",
       "        vertical-align: top;\n",
       "    }\n",
       "\n",
       "    .dataframe thead th {\n",
       "        text-align: right;\n",
       "    }\n",
       "</style>\n",
       "<table border=\"1\" class=\"dataframe\">\n",
       "  <thead>\n",
       "    <tr style=\"text-align: right;\">\n",
       "      <th></th>\n",
       "      <th>1</th>\n",
       "      <th>2</th>\n",
       "      <th>3</th>\n",
       "      <th>4</th>\n",
       "    </tr>\n",
       "  </thead>\n",
       "  <tbody>\n",
       "    <tr>\n",
       "      <th>m</th>\n",
       "      <td>0.499</td>\n",
       "      <td>0.507</td>\n",
       "      <td>0.511</td>\n",
       "      <td>0.501</td>\n",
       "    </tr>\n",
       "    <tr>\n",
       "      <th>x</th>\n",
       "      <td>9.400</td>\n",
       "      <td>9.800</td>\n",
       "      <td>10.000</td>\n",
       "      <td>9.500</td>\n",
       "    </tr>\n",
       "    <tr>\n",
       "      <th>u</th>\n",
       "      <td>131.000</td>\n",
       "      <td>134.420</td>\n",
       "      <td>136.090</td>\n",
       "      <td>131.860</td>\n",
       "    </tr>\n",
       "    <tr>\n",
       "      <th>du</th>\n",
       "      <td>8.990</td>\n",
       "      <td>9.710</td>\n",
       "      <td>10.090</td>\n",
       "      <td>9.340</td>\n",
       "    </tr>\n",
       "  </tbody>\n",
       "</table>\n",
       "</div>"
      ],
      "text/plain": [
       "          1        2        3        4\n",
       "m     0.499    0.507    0.511    0.501\n",
       "x     9.400    9.800   10.000    9.500\n",
       "u   131.000  134.420  136.090  131.860\n",
       "du    8.990    9.710   10.090    9.340"
      ]
     },
     "execution_count": 179,
     "metadata": {},
     "output_type": "execute_result"
    }
   ],
   "source": [
    "u_df"
   ]
  },
  {
   "cell_type": "code",
   "execution_count": null,
   "metadata": {},
   "outputs": [],
   "source": []
  }
 ],
 "metadata": {
  "kernelspec": {
   "display_name": "Python 3",
   "language": "python",
   "name": "python3"
  },
  "language_info": {
   "codemirror_mode": {
    "name": "ipython",
    "version": 3
   },
   "file_extension": ".py",
   "mimetype": "text/x-python",
   "name": "python",
   "nbconvert_exporter": "python",
   "pygments_lexer": "ipython3",
   "version": "3.8.3"
  }
 },
 "nbformat": 4,
 "nbformat_minor": 4
}

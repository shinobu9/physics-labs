{
 "cells": [
  {
   "cell_type": "code",
   "execution_count": 1,
   "metadata": {},
   "outputs": [
    {
     "name": "stdout",
     "output_type": "stream",
     "text": [
      "\\begin{tabular}{lrrrrrrrrr}\n",
      "\\toprule\n",
      "{} &  138.7  &  276.9  &  423.1  &  568.9  &  708.2  &  861.4  &  991.9  &  1149.3 &  1282.8 \\\\\n",
      "\\midrule\n",
      "0 &   159.3 &   315.2 &   493.1 &   639.1 &   798.0 &   957.1 &  1116.1 &  1271.6 &  1336.2 \\\\\n",
      "1 &   191.6 &   385.3 &   580.7 &   774.6 &   970.7 &  1161.7 &  1360.4 &  1753.1 &  1950.0 \\\\\n",
      "2 &   202.7 &   411.2 &   612.7 &   822.4 &  1023.7 &  1233.6 &  1436.8 &  1644.8 &  1850.4 \\\\\n",
      "3 &   223.8 &   448.7 &   672.3 &   848.5 &  1124.8 &  1348.0 &  1575.1 &  1801.8 &  2028.2 \\\\\n",
      "\\bottomrule\n",
      "\\end{tabular}\n",
      "\n"
     ]
    }
   ],
   "source": [
    "import pandas as pd\n",
    "import numpy as np\n",
    "\n",
    "data = pd.read_excel(\"harm1.xlsx\")\n",
    "print(data.to_latex())"
   ]
  },
  {
   "cell_type": "code",
   "execution_count": null,
   "metadata": {},
   "outputs": [],
   "source": [
    "additional = 113.1\n",
    "m = []"
   ]
  }
 ],
 "metadata": {
  "kernelspec": {
   "display_name": "Python 3",
   "language": "python",
   "name": "python3"
  },
  "language_info": {
   "codemirror_mode": {
    "name": "ipython",
    "version": 3
   },
   "file_extension": ".py",
   "mimetype": "text/x-python",
   "name": "python",
   "nbconvert_exporter": "python",
   "pygments_lexer": "ipython3",
   "version": "3.8.3"
  }
 },
 "nbformat": 4,
 "nbformat_minor": 4
}

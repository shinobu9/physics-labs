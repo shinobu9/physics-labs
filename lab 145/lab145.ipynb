{
 "cells": [
  {
   "cell_type": "code",
   "execution_count": 3,
   "metadata": {},
   "outputs": [
    {
     "name": "stdout",
     "output_type": "stream",
     "text": [
      "\\begin{tabular}{lrrrrrrrrrr}\n",
      "\\toprule\n",
      "{} &  Unnamed: 0 &      1 &      2 &      3 &      4 &       5 &       6 &       7 &       8 &       9 \\\\\n",
      "\\midrule\n",
      "0 &       990.0 &  138.7 &  276.9 &  423.1 &  568.9 &   708.2 &   861.4 &   991.9 &  1149.3 &  1282.8 \\\\\n",
      "1 &      1465.3 &  159.3 &  315.2 &  493.1 &  639.1 &   798.0 &   957.1 &  1116.1 &  1271.6 &  1336.2 \\\\\n",
      "2 &      1975.6 &  191.6 &  385.3 &  580.7 &  774.6 &   970.7 &  1161.7 &  1360.4 &  1753.1 &  1950.0 \\\\\n",
      "3 &      2306.6 &  202.7 &  411.2 &  612.7 &  822.4 &  1023.7 &  1233.6 &  1436.8 &  1644.8 &  1850.4 \\\\\n",
      "4 &      2760.0 &  223.8 &  448.7 &  672.3 &  848.5 &  1124.8 &  1348.0 &  1575.1 &  1801.8 &  2028.2 \\\\\n",
      "\\bottomrule\n",
      "\\end{tabular}\n",
      "\n"
     ]
    }
   ],
   "source": [
    "import pandas as pd\n",
    "import numpy as np\n",
    "\n",
    "data = pd.read_excel(\"harm1.xlsx\")\n",
    "print(data.to_latex())"
   ]
  },
  {
   "cell_type": "code",
   "execution_count": 57,
   "metadata": {},
   "outputs": [
    {
     "name": "stdout",
     "output_type": "stream",
     "text": [
      "\\begin{tabular}{lrrrrrrrrrr}\n",
      "\\toprule\n",
      "{} &  Unnamed: 0 &      1 &      2 &      3 &      4 &       5 &       6 &       7 &       8 &       9 \\\\\n",
      "\\midrule\n",
      "0 &       990.0 &  138.7 &  276.9 &  423.1 &  568.9 &   708.2 &   861.4 &   991.9 &  1149.3 &  1282.8 \\\\\n",
      "1 &      1465.3 &  159.3 &  315.2 &  493.1 &  639.1 &   798.0 &   957.1 &  1116.1 &  1271.6 &  1336.2 \\\\\n",
      "2 &      1975.6 &  191.6 &  385.3 &  580.7 &  774.6 &   970.7 &  1161.7 &  1360.4 &  1753.1 &  1950.0 \\\\\n",
      "3 &      2306.6 &  202.7 &  411.2 &  612.7 &  822.4 &  1023.7 &  1233.6 &  1436.8 &  1644.8 &  1850.4 \\\\\n",
      "4 &      2760.0 &  223.8 &  448.7 &  672.3 &  848.5 &  1124.8 &  1348.0 &  1575.1 &  1801.8 &  2028.2 \\\\\n",
      "\\bottomrule\n",
      "\\end{tabular}\n",
      "\n"
     ]
    }
   ],
   "source": [
    "data_w = pd.read_excel(\"harm1.xlsx\")\n",
    "print(data_w.to_latex())"
   ]
  },
  {
   "cell_type": "code",
   "execution_count": 58,
   "metadata": {},
   "outputs": [
    {
     "data": {
      "text/plain": [
       "[1103.1, 1578.3999999999999, 2088.7, 2419.7, 2873.1]"
      ]
     },
     "execution_count": 58,
     "metadata": {},
     "output_type": "execute_result"
    }
   ],
   "source": [
    "additional = 113.1\n",
    "m = [990, 1465.3, 1975.6, 2306.6, 2760]\n",
    "m_ = [i+additional for i in m]\n",
    "m_"
   ]
  },
  {
   "cell_type": "code",
   "execution_count": 59,
   "metadata": {},
   "outputs": [
    {
     "ename": "IndexError",
     "evalue": "list index out of range",
     "output_type": "error",
     "traceback": [
      "\u001b[1;31m---------------------------------------------------------------------------\u001b[0m",
      "\u001b[1;31mIndexError\u001b[0m                                Traceback (most recent call last)",
      "\u001b[1;32m<ipython-input-59-e38d611e8a4c>\u001b[0m in \u001b[0;36m<module>\u001b[1;34m\u001b[0m\n\u001b[1;32m----> 1\u001b[1;33m \u001b[0mmass\u001b[0m \u001b[1;33m=\u001b[0m \u001b[0mm\u001b[0m\u001b[1;33m[\u001b[0m\u001b[1;36m5\u001b[0m\u001b[1;33m]\u001b[0m\u001b[1;33m\u001b[0m\u001b[1;33m\u001b[0m\u001b[0m\n\u001b[0m\u001b[0;32m      2\u001b[0m \u001b[1;32mfor\u001b[0m \u001b[0mi\u001b[0m \u001b[1;32min\u001b[0m \u001b[0mrange\u001b[0m\u001b[1;33m(\u001b[0m\u001b[1;36m1\u001b[0m\u001b[1;33m,\u001b[0m\u001b[1;36m10\u001b[0m\u001b[1;33m)\u001b[0m\u001b[1;33m:\u001b[0m\u001b[1;33m\u001b[0m\u001b[1;33m\u001b[0m\u001b[0m\n\u001b[0;32m      3\u001b[0m     \u001b[0mprint\u001b[0m\u001b[1;33m(\u001b[0m\u001b[0mi\u001b[0m\u001b[1;33m*\u001b[0m\u001b[1;33m(\u001b[0m\u001b[0mmass\u001b[0m \u001b[1;33m/\u001b[0m \u001b[1;36m1000\u001b[0m \u001b[1;33m*\u001b[0m \u001b[1;36m9.8\u001b[0m \u001b[1;33m*\u001b[0m \u001b[1;36m1000000\u001b[0m\u001b[1;33m/\u001b[0m \u001b[1;36m568.4\u001b[0m\u001b[1;33m)\u001b[0m\u001b[1;33m**\u001b[0m\u001b[1;36m0.5\u001b[0m\u001b[1;33m)\u001b[0m\u001b[1;33m\u001b[0m\u001b[1;33m\u001b[0m\u001b[0m\n",
      "\u001b[1;31mIndexError\u001b[0m: list index out of range"
     ]
    }
   ],
   "source": [
    "mass = m[5]\n",
    "for i in range(1,10):\n",
    "    print(i*(mass / 1000 * 9.8 * 1000000/ 568.4)**0.5)"
   ]
  },
  {
   "cell_type": "code",
   "execution_count": 60,
   "metadata": {},
   "outputs": [
    {
     "data": {
      "text/plain": [
       "array([[ 138.7,  276.9,  423.1,  568.9,  708.2,  861.4,  991.9, 1149.3,\n",
       "        1282.8],\n",
       "       [ 159.3,  315.2,  493.1,  639.1,  798. ,  957.1, 1116.1, 1271.6,\n",
       "        1336.2],\n",
       "       [ 191.6,  385.3,  580.7,  774.6,  970.7, 1161.7, 1360.4, 1753.1,\n",
       "        1950. ],\n",
       "       [ 202.7,  411.2,  612.7,  822.4, 1023.7, 1233.6, 1436.8, 1644.8,\n",
       "        1850.4],\n",
       "       [ 223.8,  448.7,  672.3,  848.5, 1124.8, 1348. , 1575.1, 1801.8,\n",
       "        2028.2]])"
      ]
     },
     "execution_count": 60,
     "metadata": {},
     "output_type": "execute_result"
    }
   ],
   "source": [
    "datanum = np.array([[138.7,   276.9,  423.1,  568.9,  708.2,  861.4,  991.9, 1149.3, 1282.8],\n",
    "                    [ 159.3,  315.2,  493.1,  639.1,  798. ,  957.1, 1116.1, 1271.6, 1336.2],\n",
    "                    [ 191.6,  385.3,  580.7,  774.6,  970.7, 1161.7, 1360.4, 1753.1, 1950. ],\n",
    "                    [ 202.7,  411.2,  612.7,  822.4, 1023.7, 1233.6, 1436.8, 1644.8, 1850.4],\n",
    "                    [ 223.8,  448.7,  672.3,  848.5, 1124.8, 1348. , 1575.1, 1801.8, 2028.2]])\n",
    "\n",
    "datanum"
   ]
  },
  {
   "cell_type": "code",
   "execution_count": 4,
   "metadata": {},
   "outputs": [],
   "source": [
    "datanum = np.array([[0, 138.7,   276.9,  423.1,  568.9,  708.2,  861.4,  991.9, 1149.3, 1282.8],\n",
    "                    [0, 159.3,  315.2,  493.1,  639.1,  798. ,  957.1, 1116.1, 1271.6, 1336.2],\n",
    "                    [0, 191.6,  385.3,  580.7,  774.6,  970.7, 1161.7, 1360.4, 1753.1, 1950. ],\n",
    "                    [0, 202.7,  411.2,  612.7,  822.4, 1023.7, 1233.6, 1436.8, 1644.8, 1850.4],\n",
    "                    [0, 223.8,  448.7,  672.3,  848.5, 1124.8, 1348. , 1575.1, 1801.8, 2028.2]])"
   ]
  },
  {
   "cell_type": "code",
   "execution_count": 61,
   "metadata": {},
   "outputs": [
    {
     "data": {
      "text/plain": [
       "array([[  9.7 ,  14.36,  19.36,  22.6 ,  27.05],\n",
       "       [141.5 , 158.56, 198.82, 204.99, 223.29]])"
      ]
     },
     "execution_count": 61,
     "metadata": {},
     "output_type": "execute_result"
    }
   ],
   "source": [
    "Fu = np.empty([2, 5])\n",
    "mid = []\n",
    "\n",
    "for i in range(5):\n",
    "    s = 0\n",
    "    for j in range(9):\n",
    "        s += datanum[i][j]/(j+1)\n",
    "    mid.append(round(s/9, 2))\n",
    "\n",
    "for i in range(5):\n",
    "    Fu[0][i] = (round(m[i]*9.8/1000, 2))\n",
    "    Fu[1][i] = mid[i]\n",
    "\n",
    "Fu_df = pd.DataFrame(data=Fu, index=[\"F\", \"u\"])\n",
    "Fu"
   ]
  },
  {
   "cell_type": "code",
   "execution_count": 62,
   "metadata": {},
   "outputs": [
    {
     "name": "stdout",
     "output_type": "stream",
     "text": [
      "\\begin{tabular}{lrrrrr}\n",
      "\\toprule\n",
      "{} &      0 &       1 &       2 &       3 &       4 \\\\\n",
      "\\midrule\n",
      "F &    9.7 &   14.36 &   19.36 &   22.60 &   27.05 \\\\\n",
      "u &  141.5 &  158.56 &  198.82 &  204.99 &  223.29 \\\\\n",
      "\\bottomrule\n",
      "\\end{tabular}\n",
      "\n"
     ]
    }
   ],
   "source": [
    "print(Fu_df.to_latex())"
   ]
  },
  {
   "cell_type": "code",
   "execution_count": 63,
   "metadata": {},
   "outputs": [
    {
     "data": {
      "text/plain": [
       "141.5"
      ]
     },
     "execution_count": 63,
     "metadata": {},
     "output_type": "execute_result"
    }
   ],
   "source": [
    "mid[0]"
   ]
  },
  {
   "cell_type": "code",
   "execution_count": 64,
   "metadata": {},
   "outputs": [
    {
     "name": "stdout",
     "output_type": "stream",
     "text": [
      "[0.21, 2.02, 3.57, 0.12, 0.41]\n"
     ]
    }
   ],
   "source": [
    "sigma = []\n",
    "for i in range(5):\n",
    "    sigma.append((mid[i] - datanum[i][j]/(j+1))**2)\n",
    "    sigma[i] = round((sigma[i]**0.5)/5, 2)\n",
    "print(sigma)"
   ]
  },
  {
   "cell_type": "code",
   "execution_count": 65,
   "metadata": {},
   "outputs": [
    {
     "data": {
      "text/plain": [
       "1.266"
      ]
     },
     "execution_count": 65,
     "metadata": {},
     "output_type": "execute_result"
    }
   ],
   "source": [
    "sum(sigma)/5"
   ]
  },
  {
   "cell_type": "code",
   "execution_count": null,
   "metadata": {},
   "outputs": [],
   "source": []
  },
  {
   "cell_type": "code",
   "execution_count": 46,
   "metadata": {},
   "outputs": [],
   "source": [
    "df = pd.DataFrame(np.array([[0.21, 2.02, 3.57, 0.12, 0.41]]), index=[\"s\"])"
   ]
  },
  {
   "cell_type": "code",
   "execution_count": 47,
   "metadata": {},
   "outputs": [
    {
     "name": "stdout",
     "output_type": "stream",
     "text": [
      "\\begin{tabular}{lrrrrr}\n",
      "\\toprule\n",
      "{} &     0 &     1 &     2 &     3 &     4 \\\\\n",
      "\\midrule\n",
      "s &  0.21 &  2.02 &  3.57 &  0.12 &  0.41 \\\\\n",
      "\\bottomrule\n",
      "\\end{tabular}\n",
      "\n"
     ]
    }
   ],
   "source": [
    "print(df.to_latex())"
   ]
  },
  {
   "cell_type": "code",
   "execution_count": 5,
   "metadata": {},
   "outputs": [
    {
     "data": {
      "image/png": "[encoded data removed]",
      "text/plain": [
       "<Figure size 432x288 with 1 Axes>"
      ]
     },
     "metadata": {
      "needs_background": "light"
     },
     "output_type": "display_data"
    }
   ],
   "source": [
    "import matplotlib.pyplot as plt\n",
    "x = [0, 1, 2, 3, 4, 5, 6, 7, 8, 9]\n",
    "y = [datanum[0], datanum[1], datanum[2], datanum[3], datanum[4]]\n",
    "\n",
    "#plt.plot(x, y[0])\n",
    "z = np.polyfit(x, y[0], 1)\n",
    "p = np.poly1d(z)\n",
    "plt.plot(x,p(x),\"-\", zorder=1)\n",
    "\n",
    "#plt.plot(x, y[1])\n",
    "z = np.polyfit(x, y[1], 1)\n",
    "p = np.poly1d(z)\n",
    "plt.plot(x,p(x),\"-\", zorder=1)\n",
    "\n",
    "#plt.plot(x, y[2])\n",
    "z = np.polyfit(x, y[2], 1)\n",
    "p = np.poly1d(z)\n",
    "plt.plot(x,p(x),\"-\", zorder=1)\n",
    "\n",
    "#plt.plot(x, y[3])\n",
    "z = np.polyfit(x, y[3], 1)\n",
    "p = np.poly1d(z)\n",
    "plt.plot(x,p(x),\"-\", zorder=1)\n",
    "\n",
    "#plt.plot(x, y[4])\n",
    "z = np.polyfit(x, y[4], 1)\n",
    "p = np.poly1d(z)\n",
    "plt.plot(x,p(x),\"-\", zorder=1)\n",
    "\n",
    "plt.xlabel('n')\n",
    "plt.ylabel('частота')\n",
    "plt.scatter([0],[0], color=\"black\", zorder=2)\n",
    "plt.show()"
   ]
  },
  {
   "cell_type": "code",
   "execution_count": 67,
   "metadata": {},
   "outputs": [
    {
     "name": "stdout",
     "output_type": "stream",
     "text": [
      "[[484.4610371  571.17233711 489.76214469 537.82760355 542.53620102]] 525.1518646931199\n",
      "! 3.704372119250529\n",
      "0.7053906437931496\n"
     ]
    }
   ],
   "source": [
    "rho = np.empty([1,5])\n",
    "for i in range(5):\n",
    "    rho[0][i] = Fu[0][i] / Fu[1][i]**2 * 1000000\n",
    "print(rho, np.mean(rho))\n",
    "meanrho = np.mean(rho)\n",
    "\n",
    "ss = 0\n",
    "for i in range(5):\n",
    "    ss += (rho[0][i] - meanrho)**2\n",
    "print('!', (ss**0.5)/20)\n",
    "print((ss**0.5)/20/meanrho*100)"
   ]
  },
  {
   "cell_type": "code",
   "execution_count": 51,
   "metadata": {},
   "outputs": [],
   "source": [
    "Fu = np.array([[0,  9.7 ,  14.36,  19.36,  22.6 ,  27.05],\n",
    "       [0,  141.5 , 158.56, 198.82, 204.99, 223.29]])"
   ]
  },
  {
   "cell_type": "code",
   "execution_count": 54,
   "metadata": {},
   "outputs": [
    {
     "data": {
      "image/png": "[encoded data removed]",
      "text/plain": [
       "<Figure size 432x288 with 1 Axes>"
      ]
     },
     "metadata": {
      "needs_background": "light"
     },
     "output_type": "display_data"
    }
   ],
   "source": [
    "rho = 525.15\n",
    "x = Fu[0][:]\n",
    "y = [u**2 for u in Fu[1][:]]\n",
    "plt.scatter(x[1:], y[1:])\n",
    "plt.scatter([0],[0], color='red')\n",
    "\n",
    "z = np.polyfit(x, y, 1)\n",
    "p = np.poly1d(z)\n",
    "plt.plot(x,p(x),\"r--\")\n",
    "\n",
    "plt.xlabel('F')\n",
    "plt.ylabel('u в квадрате')\n",
    "plt.show()"
   ]
  },
  {
   "cell_type": "code",
   "execution_count": null,
   "metadata": {},
   "outputs": [],
   "source": []
  },
  {
   "cell_type": "code",
   "execution_count": null,
   "metadata": {},
   "outputs": [],
   "source": []
  }
 ],
 "metadata": {
  "kernelspec": {
   "display_name": "Python 3",
   "language": "python",
   "name": "python3"
  },
  "language_info": {
   "codemirror_mode": {
    "name": "ipython",
    "version": 3
   },
   "file_extension": ".py",
   "mimetype": "text/x-python",
   "name": "python",
   "nbconvert_exporter": "python",
   "pygments_lexer": "ipython3",
   "version": "3.8.3"
  }
 },
 "nbformat": 4,
 "nbformat_minor": 4
}
